{
 "cells": [
  {
   "cell_type": "markdown",
   "metadata": {},
   "source": [
    "# Solving the Traveling Salesman  Problem using Local Search\n",
    "\n",
    "Points: 10"
   ]
  },
  {
   "cell_type": "markdown",
   "metadata": {},
   "source": [
    "## The [Traveling Salesman Problem](https://en.wikipedia.org/wiki/Travelling_salesman_problem)\n",
    "\n",
    "* __Goal:__ Find the shortest tour visiting each of $n$ cities exactly once and returning back to the starting city. Given are pairwise distances between cities, where $d_{i,j}$ is the distance from city $i$ to city $j$. \n",
    "\n",
    "* __State space:__ Each state represents a tour. The cities are numbered and a tour can be expressed as vector  $\\pi$ with the order in which the cities are visited (a [permutation](https://en.wikipedia.org/wiki/Permutation)). That is, $\\pi(1)$ is the index of the first city to visit, $\\pi(2)$ the index of the second, and so on.\n",
    "\n",
    "* __Objective function:__ Minimize the tour length. The optimization problem is to find the optimal tour $\\pi^*$ through the $n$ cities and returning to the starting city:\n",
    "\n",
    "  > minimize: $\\mathrm{tourlength}(\\pi) = d_{\\pi(n),\\pi(1)} + \\sum_{i = 1}^{n-1} d_{\\pi(i),\\pi(i+1)}$\n",
    "  > \n",
    "  > subject to: $\\pi \\ \\text{is a valid permutation vector}$\n",
    "\n",
    "* __Local moves:__ Exchange two cities in the order."
   ]
  },
  {
   "cell_type": "markdown",
   "metadata": {},
   "source": [
    "## Helper functions"
   ]
  },
  {
   "cell_type": "code",
   "execution_count": null,
   "metadata": {},
   "outputs": [],
   "source": [
    "import numpy as np\n",
    "import pandas as pd\n",
    "import matplotlib.pyplot as plt\n",
    "import math\n",
    "import random\n",
    "\n",
    "np.set_printoptions(precision=2)\n",
    "pd.set_option('display.precision', 2)\n",
    "\n",
    "# make the results repeatable\n",
    "np.random.seed(1234)"
   ]
  },
  {
   "cell_type": "code",
   "execution_count": null,
   "metadata": {},
   "outputs": [],
   "source": [
    "def random_tour(n):\n",
    "    \"\"\"Create a random tour\"\"\"\n",
    "    \n",
    "    tour = list(range(n))\n",
    "    random.shuffle(tour)\n",
    "    return(tour)\n",
    "\n",
    "random_tour(10)"
   ]
  },
  {
   "cell_type": "code",
   "execution_count": null,
   "metadata": {
    "scrolled": true
   },
   "outputs": [],
   "source": [
    "from scipy.spatial.distance import pdist\n",
    "from scipy.spatial.distance import squareform\n",
    "\n",
    "def random_tsp(n):\n",
    "    \"\"\"\n",
    "    Create a random (Euclidean) traveling salesman problem. Choose n points randomly in a 1 x 1 unit square and calulates a \n",
    "    pairwise Euclidean distance matrix.\n",
    "    \"\"\"\n",
    "    \n",
    "    pos = pd.DataFrame({\n",
    "        \"x\" : np.random.uniform(size = n),\n",
    "        \"y\" : np.random.uniform(size = n)\n",
    "    })\n",
    "    \n",
    "    dist = squareform(pdist(pos))\n",
    "    \n",
    "    return({\"pos\": pos, \"dist\": dist})\n",
    "    \n",
    "tsp = random_tsp(10)\n",
    "\n",
    "print(f\"Positions:\\n{tsp['pos']}\")\n",
    "print(f\"Distance matrix:\\n{pd.DataFrame(tsp['dist'])})\")"
   ]
  },
  {
   "cell_type": "code",
   "execution_count": null,
   "metadata": {},
   "outputs": [],
   "source": [
    "def tour_length(tsp, tour):\n",
    "    \"\"\"Caclulate the length of a tour, i.e., the objective function.\"\"\"\n",
    "    \n",
    "    # make sure tour is a Python list (not an array or a numpy.array)\n",
    "    if not isinstance(tour, list): tour = tour.tolist()\n",
    "    \n",
    "    tl = 0\n",
    "    dist = tsp[\"dist\"]\n",
    "    \n",
    "    for i in range(len(tour)-1):\n",
    "        tl += dist[tour[i], tour[i+1]]\n",
    "    \n",
    "    tl += dist[tour[-1], tour[0]]\n",
    "    \n",
    "    return(tl)\n",
    "        \n",
    "tour = random_tour(10)\n",
    "tour_length(tsp, tour)"
   ]
  },
  {
   "cell_type": "code",
   "execution_count": null,
   "metadata": {
    "scrolled": true
   },
   "outputs": [],
   "source": [
    "def show_tsp(tsp, tour=None):  \n",
    "    \"\"\"display the traveling salesman problem and a tour.\"\"\"\n",
    "    \n",
    "    pos = tsp[\"pos\"]\n",
    "    \n",
    "    plt.scatter(pos[\"x\"], pos[\"y\"])\n",
    "    \n",
    "    if tour is not None:\n",
    "        # make sure tour is a Python list (not an array or a numpy.array)\n",
    "        if not isinstance(tour, list): \n",
    "            tour = tour.tolist()\n",
    "        \n",
    "        print(f\"Tour length: {round(tour_length(tsp, tour), 2)}\")\n",
    "        \n",
    "        pos_ = pos.reindex(tour)\n",
    "        pos_ = pd.concat([pos_, pos_.head(1)])  # Sửa ở đây\n",
    "        plt.plot(pos_[\"x\"], pos_[\"y\"])\n",
    "    \n",
    "    plt.show()\n",
    "    \n",
    "show_tsp(tsp, tour)"
   ]
  },
  {
   "cell_type": "markdown",
   "metadata": {},
   "source": [
    "## Use R to find a solution\n",
    "\n",
    "Load rpy2, make sure the R [TSP package](https://CRAN.R-project.org/package=TSP) is installed and prepare the distance matrix."
   ]
  },
  {
   "cell_type": "code",
   "execution_count": null,
   "metadata": {},
   "outputs": [],
   "source": [
    "%load_ext rpy2.ipython\n",
    "\n",
    "%R if(!\"TSP\" %in% rownames(installed.packages())) install.packages(\"TSP\", repos=\"http://cran.us.r-project.org\")\n",
    "%R if(!\"microbenchmark\" %in% rownames(installed.packages())) install.packages(\"microbenchmark\", repos=\"http://cran.us.r-project.org\")\n",
    "\n",
    "d = tsp[\"dist\"]"
   ]
  },
  {
   "cell_type": "markdown",
   "metadata": {},
   "source": [
    "Solve the TSP using [`solve_TSP`](https://www.rdocumentation.org/packages/TSP/versions/1.1-10/topics/solve_TSP) with the default heuristic. Note that 2-opt is steepest ascend hill climbing with exchanging two cities. `rep=100` means 100 random restarts."
   ]
  },
  {
   "cell_type": "code",
   "execution_count": null,
   "metadata": {},
   "outputs": [],
   "source": [
    "%%R -i d -o tour\n",
    "\n",
    "library(\"TSP\")\n",
    "\n",
    "tsp <- TSP(d)\n",
    "print(tsp)\n",
    "\n",
    "tour <- solve_TSP(tsp, rep = 100)\n",
    "print(tour)\n",
    "\n",
    "# R starts index with 1, but Python starts at 0\n",
    "tour <- tour - 1L"
   ]
  },
  {
   "cell_type": "code",
   "execution_count": null,
   "metadata": {
    "scrolled": true
   },
   "outputs": [],
   "source": [
    "show_tsp(tsp, tour)"
   ]
  },
  {
   "cell_type": "markdown",
   "metadata": {},
   "source": [
    "How long does it take to solve the problem 100 times?"
   ]
  },
  {
   "cell_type": "code",
   "execution_count": null,
   "metadata": {},
   "outputs": [],
   "source": [
    "%%R -i d\n",
    "\n",
    "library(\"microbenchmark\")\n",
    "\n",
    "microbenchmark(tsp <- TSP(d))"
   ]
  },
  {
   "cell_type": "markdown",
   "metadata": {},
   "source": [
    "## Steepest-ascend Hill Climbing Search [3 Points]\n",
    "\n",
    "Calculate the objective function for all local moves (move each queen within its column) and always choose the best among all local moves."
   ]
  },
  {
   "cell_type": "code",
   "execution_count": null,
   "metadata": {
    "scrolled": false
   },
   "outputs": [],
   "source": [
    "# Code goes here"
   ]
  },
  {
   "cell_type": "markdown",
   "metadata": {},
   "source": [
    "## Steepest-ascend Hill Climbing Search with Random Restarts [1 Point]\n",
    "\n",
    "Steepest-ascend with random restarts."
   ]
  },
  {
   "cell_type": "code",
   "execution_count": null,
   "metadata": {
    "scrolled": false
   },
   "outputs": [],
   "source": [
    "# Code goes here"
   ]
  },
  {
   "cell_type": "markdown",
   "metadata": {},
   "source": [
    "## Stochastic Hill Climbing [1 Points]\n",
    "\n",
    "Chooses randomly from among all uphill moves."
   ]
  },
  {
   "cell_type": "code",
   "execution_count": null,
   "metadata": {},
   "outputs": [],
   "source": [
    "# Code goes here"
   ]
  },
  {
   "cell_type": "markdown",
   "metadata": {},
   "source": [
    "## First-choice Hill Climbing [1 Point]\n",
    "\n",
    "First-choice hill climbing is a type of stochastic hill climbing that generates one random local neighbor at a time and accept it if it has a better objective function value than the current state."
   ]
  },
  {
   "cell_type": "code",
   "execution_count": 9,
   "metadata": {},
   "outputs": [],
   "source": [
    "def first_choice_hill_climbing(tsp, max_iter=1000):\n",
    "    tour = random_tour(len(tsp['dist']))\n",
    "    current_length = tour_length(tsp, tour)\n",
    "    for _ in range(max_iter):\n",
    "        improved = False\n",
    "        neighbors = []\n",
    "        for i in range(len(tour)):\n",
    "            for j in range(i+1, len(tour)):\n",
    "                neighbor = tour[:]\n",
    "                neighbor[i], neighbor[j] = neighbor[j], neighbor[i]\n",
    "                neighbors.append(neighbor)\n",
    "        random.shuffle(neighbors)\n",
    "        for neighbor in neighbors:\n",
    "            neighbor_length = tour_length(tsp, neighbor)\n",
    "            if neighbor_length < current_length:\n",
    "                tour = neighbor\n",
    "                current_length = neighbor_length\n",
    "                improved = True\n",
    "                break\n",
    "        if not improved:\n",
    "            break\n",
    "    return tour, current_length"
   ]
  },
  {
   "cell_type": "markdown",
   "metadata": {},
   "source": [
    "## Simulated Annealing [2 Points]"
   ]
  },
  {
   "cell_type": "code",
   "execution_count": 10,
   "metadata": {},
   "outputs": [],
   "source": [
    "def simulated_annealing(tsp, T0=1000, alpha=0.99, T_min=1e-5, max_steps=10000):\n",
    "    tour = random_tour(len(tsp['dist']))\n",
    "    current_length = tour_length(tsp, tour)\n",
    "    T = T0\n",
    "    for t in range(max_steps):\n",
    "        if T < T_min:\n",
    "            break\n",
    "        i, j = random.sample(range(len(tour)), 2)\n",
    "        neighbor = tour[:]\n",
    "        neighbor[i], neighbor[j] = neighbor[j], neighbor[i]\n",
    "        neighbor_length = tour_length(tsp, neighbor)\n",
    "        delta = neighbor_length - current_length\n",
    "        if delta < 0 or random.random() < math.exp(-delta / T):\n",
    "            tour = neighbor\n",
    "            current_length = neighbor_length\n",
    "        T *= alpha\n",
    "    return tour, current_length"
   ]
  },
  {
   "cell_type": "markdown",
   "metadata": {},
   "source": [
    "## Compare Performance [2 Points]\n",
    "\n",
    "Use runtime, scalability (number of cities), and best objective function value to compare the algorithms on boards of different sizes.  \n",
    "\n",
    "For timing you can use the `time` package."
   ]
  },
  {
   "cell_type": "code",
   "execution_count": 11,
   "metadata": {},
   "outputs": [
    {
     "name": "stdout",
     "output_type": "stream",
     "text": [
      "Do something\n",
      "This took: 0.0 milliseconds\n"
     ]
    }
   ],
   "source": [
    "import time\n",
    "\n",
    "t0 = time.time()\n",
    "print(\"Do something\")\n",
    "t1 = time.time()\n",
    "\n",
    "print(f\"This took: {(t1-t0) * 1e3} milliseconds\")"
   ]
  },
  {
   "cell_type": "code",
   "execution_count": 13,
   "metadata": {},
   "outputs": [
    {
     "name": "stdout",
     "output_type": "stream",
     "text": [
      "{10: {'First-Choice HC': {'runtime': 0.0009996891021728516, 'length': np.float64(2.9275752417834022)}, 'Simulated Annealing': {'runtime': 0.006998777389526367, 'length': np.float64(3.3296064980615845)}}, 20: {'First-Choice HC': {'runtime': 0.008000850677490234, 'length': np.float64(4.231729423267925)}, 'Simulated Annealing': {'runtime': 0.012000560760498047, 'length': np.float64(4.174479691231499)}}, 30: {'First-Choice HC': {'runtime': 0.013004302978515625, 'length': np.float64(6.678896176403101)}, 'Simulated Annealing': {'runtime': 0.013000011444091797, 'length': np.float64(6.831243221873798)}}, 40: {'First-Choice HC': {'runtime': 0.10600018501281738, 'length': np.float64(7.848853917395781)}, 'Simulated Annealing': {'runtime': 0.015000104904174805, 'length': np.float64(8.634205961463884)}}, 50: {'First-Choice HC': {'runtime': 0.1150050163269043, 'length': np.float64(8.367348740866733)}, 'Simulated Annealing': {'runtime': 0.018000364303588867, 'length': np.float64(11.622200110437706)}}, 60: {'First-Choice HC': {'runtime': 0.21799993515014648, 'length': np.float64(9.95639027793342)}, 'Simulated Annealing': {'runtime': 0.02100348472595215, 'length': np.float64(15.321700352270833)}}, 70: {'First-Choice HC': {'runtime': 0.5248334407806396, 'length': np.float64(9.988061882553726)}, 'Simulated Annealing': {'runtime': 0.024001359939575195, 'length': np.float64(17.20418972011823)}}, 80: {'First-Choice HC': {'runtime': 0.8300015926361084, 'length': np.float64(11.119383562434116)}, 'Simulated Annealing': {'runtime': 0.02699732780456543, 'length': np.float64(19.486331731907356)}}, 90: {'First-Choice HC': {'runtime': 2.0161898136138916, 'length': np.float64(13.269533788765685)}, 'Simulated Annealing': {'runtime': 0.028999805450439453, 'length': np.float64(22.607739898026136)}}, 100: {'First-Choice HC': {'runtime': 2.59409499168396, 'length': np.float64(15.68780450628811)}, 'Simulated Annealing': {'runtime': 0.03200173377990723, 'length': np.float64(24.15724492291348)}}}\n"
     ]
    }
   ],
   "source": [
    "import time\n",
    "sizes = [10, 20, 30, 40, 50, 60, 70, 80, 90 , 100]\n",
    "algorithms = {\n",
    "    'First-Choice HC': first_choice_hill_climbing,\n",
    "    'Simulated Annealing': simulated_annealing\n",
    "}\n",
    "results = {}\n",
    "for n in sizes:\n",
    "    tsp = random_tsp(n)\n",
    "    results[n] = {}\n",
    "    for name, func in algorithms.items():\n",
    "        start = time.time()\n",
    "        _, length = func(tsp)\n",
    "        runtime = time.time() - start\n",
    "        results[n][name] = {'runtime': runtime, 'length': length}\n",
    "print(results)"
   ]
  },
  {
   "cell_type": "markdown",
   "metadata": {},
   "source": [
    "## Bonus: Genetic Algorithm [+1 Point]"
   ]
  },
  {
   "cell_type": "code",
   "execution_count": null,
   "metadata": {},
   "outputs": [],
   "source": [
    "# Code goes here"
   ]
  }
 ],
 "metadata": {
  "kernelspec": {
   "display_name": "BYU",
   "language": "python",
   "name": "python3"
  },
  "language_info": {
   "codemirror_mode": {
    "name": "ipython",
    "version": 3
   },
   "file_extension": ".py",
   "mimetype": "text/x-python",
   "name": "python",
   "nbconvert_exporter": "python",
   "pygments_lexer": "ipython3",
   "version": "3.12.9"
  }
 },
 "nbformat": 4,
 "nbformat_minor": 4
}
